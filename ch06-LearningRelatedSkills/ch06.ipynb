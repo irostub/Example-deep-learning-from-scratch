{
 "cells": [
  {
   "cell_type": "markdown",
   "metadata": {},
   "source": [
    "# 6.1.2 확률적 경사 하강법(SGD)\n",
    "---"
   ]
  },
  {
   "cell_type": "code",
   "execution_count": 1,
   "metadata": {},
   "outputs": [],
   "source": [
    "class SGD:\n",
    "    def __init__(self, lr=0.01):\n",
    "        self.lr = lr\n",
    "        \n",
    "    def update(self, params, grads):\n",
    "        for key in params.keys():\n",
    "            params[key] -= self.lr * grads[keys]"
   ]
  },
  {
   "cell_type": "markdown",
   "metadata": {},
   "source": [
    "# 6.1.4 모멘텀\n",
    "---"
   ]
  },
  {
   "cell_type": "code",
   "execution_count": 2,
   "metadata": {},
   "outputs": [],
   "source": [
    "class Momentum:\n",
    "    def __init__(self, lr=0.01, momentum = 0.9):\n",
    "        self.lr = lr\n",
    "        self.momentum = momentum\n",
    "        self.v = None\n",
    "        \n",
    "    def update(self, params, grads):\n",
    "        if self.v is None:\n",
    "            self.v = {}\n",
    "            for key, val in params.items():\n",
    "                self.v[key] = np.zeros_like(val)\n",
    "                \n",
    "        for key in params.keys():\n",
    "            self.v[key] = self.momentum * self.v[key] - self.lr * grads[key]\n",
    "            params[key] += self.v[key]"
   ]
  },
  {
   "cell_type": "markdown",
   "metadata": {},
   "source": [
    "# 6.1.5 AdaGrad\n",
    "---"
   ]
  },
  {
   "cell_type": "code",
   "execution_count": 3,
   "metadata": {},
   "outputs": [],
   "source": [
    "class AdaGrad:\n",
    "    def __init__(self, lr = 0.01):\n",
    "        self.lr = lr\n",
    "        self.h = None\n",
    "        \n",
    "    def update(self, params, grads):\n",
    "        if self.h is None:\n",
    "            self.h = {}\n",
    "            for key, val in params.items():\n",
    "                self.h[key] = np.zeros_like(val)\n",
    "            \n",
    "        for key in params.keys():\n",
    "            self.h[key] += gards[key] * gards[key]\n",
    "            params[key] -= self.lr * grads[key]/(np.sqrt(self.h[key])+1e-7)"
   ]
  },
  {
   "cell_type": "markdown",
   "metadata": {},
   "source": [
    "# 6.2 가중치의 초깃값\n",
    "---"
   ]
  },
  {
   "cell_type": "markdown",
   "metadata": {},
   "source": [
    "### 6.2.2 은닉층의 활성화값 분포\n",
    "---"
   ]
  },
  {
   "cell_type": "code",
   "execution_count": 4,
   "metadata": {},
   "outputs": [],
   "source": [
    "import numpy as np\n",
    "import matplotlib.pyplot as plt\n",
    "\n",
    "def sigmoid(x):\n",
    "    return 1/(1+np.exp(-x))\n",
    "\n",
    "x = np.random.randn(1000,100) #1000개의 데이터\n",
    "node_num = 100 #각 은닉층의 노드 수\n",
    "hidden_layer_size = 5 #총 5개의 은닉층\n",
    "activations = {} #활성화 결과(활성화 값)을 저장\n",
    "\n",
    "for i in range(hidden_layer_size):\n",
    "    if i != 0:\n",
    "        x = activations[i-1]\n",
    "        \n",
    "    #표준편차가 1일때\n",
    "    #w = np.random.randn(node_num, node_num) * 1\n",
    "    #표준편차를 0.01 일때\n",
    "    #w = np.random.randn(node_num, node_num) * 0.01\n",
    "    #Xavier 초기값을 사용하였을 때\n",
    "    w = np.random.randn(node_num, node_num) / np.sqrt(node_num)\n",
    "    a = np.dot(x,w)\n",
    "    z = sigmoid(a)\n",
    "    activations[i] = z"
   ]
  },
  {
   "cell_type": "code",
   "execution_count": 5,
   "metadata": {},
   "outputs": [
    {
     "data": {
      "image/png": "[encoded data removed]",
      "text/plain": [
       "<Figure size 432x288 with 5 Axes>"
      ]
     },
     "metadata": {
      "needs_background": "light"
     },
     "output_type": "display_data"
    }
   ],
   "source": [
    "for i, a in activations.items():\n",
    "    plt.subplot(1, len(activations), i+1)\n",
    "    plt.title(str(i+1)+\"-layer\")\n",
    "    plt.hist(a.flatten(), 30, range = (0, 1))\n",
    "plt.show()"
   ]
  },
  {
   "cell_type": "markdown",
   "metadata": {},
   "source": [
    "# 6.4 바른 학습을 위해\n",
    "---"
   ]
  },
  {
   "cell_type": "markdown",
   "metadata": {},
   "source": [
    "### 6.4.1 오버피팅\n",
    "---"
   ]
  },
  {
   "cell_type": "code",
   "execution_count": 6,
   "metadata": {},
   "outputs": [],
   "source": [
    "import sys, os\n",
    "sys.path.append(os.pardir)\n",
    "from dataset.mnist import load_mnist\n",
    "from common.multi_layer_net import MultiLayerNet\n",
    "from common.optimizer import SGD\n",
    "\n",
    "(x_train, t_train), (x_test, t_test) = load_mnist(normalize = True)\n",
    "# 오버피팅 재현하기 위해서 학습 데이터 수를 줄인다\n",
    "x_train = x_train[:300]\n",
    "t_train = t_train[:300]"
   ]
  },
  {
   "cell_type": "code",
   "execution_count": 7,
   "metadata": {},
   "outputs": [],
   "source": [
    "network = MultiLayerNet(input_size = 784, hidden_size_list = [100,100,100,100,100,100], output_size = 10)\n",
    "optimizer = SGD(lr = 0.01)\n",
    "max_epochs = 201\n",
    "train_size = x_train.shape[0]\n",
    "batch_size = 100\n",
    "\n",
    "train_loss_list = []\n",
    "train_acc_list = []\n",
    "test_acc_list = []\n",
    "\n",
    "iter_per_epoch = max(train_size / batch_size, 1)\n",
    "epoch_cnt = 0\n",
    "\n",
    "for i in range(10000000):\n",
    "    batch_mask = np.random.choice(train_size, batch_size)\n",
    "    x_batch = x_train[batch_mask]\n",
    "    t_batch = t_train[batch_mask]\n",
    "    \n",
    "    grads =  network.gradient(x_batch, t_batch)\n",
    "    optimizer.update(network.params, grads)\n",
    "    \n",
    "    if i % iter_per_epoch == 0 :\n",
    "        train_acc = network.accuracy(x_train, t_train)\n",
    "        test_acc = network.accuracy(x_test, t_test)\n",
    "        train_acc_list.append(train_acc)\n",
    "        test_acc_list.append(test_acc)\n",
    "        \n",
    "        epoch_cnt+= 1\n",
    "        if epoch_cnt >= max_epochs:\n",
    "            break"
   ]
  },
  {
   "cell_type": "markdown",
   "metadata": {},
   "source": [
    "### 6.4.3 드롭아웃\n",
    "---"
   ]
  },
  {
   "cell_type": "code",
   "execution_count": 8,
   "metadata": {},
   "outputs": [],
   "source": [
    "class Dropout:\n",
    "    def __init__(self, dropout_ratio=0.5):\n",
    "        self.dropout_ratio = dropout_ratio\n",
    "        self.mask = None\n",
    "        \n",
    "    def forward(self, x, train_flg = True):\n",
    "        if train_flg:\n",
    "            self.mask = np.random.rand(*x.shape)>self.dropout_ration\n",
    "            return x * self.mask\n",
    "        else:\n",
    "            return x * (1.0 - self.dropout_ratio)\n",
    "        \n",
    "    def backward(self, dout):\n",
    "        return dout * self.mask"
   ]
  },
  {
   "cell_type": "markdown",
   "metadata": {},
   "source": [
    "# 6.5 적절한 하이퍼파라미터 값 찾기\n",
    "---"
   ]
  },
  {
   "cell_type": "markdown",
   "metadata": {},
   "source": [
    "### 6.5.1 검증 데이터\n",
    "---\n"
   ]
  },
  {
   "cell_type": "code",
   "execution_count": 9,
   "metadata": {},
   "outputs": [],
   "source": [
    "import sys, os\n",
    "sys.path.append(os.pardir)\n",
    "from common.util import shuffle_dataset\n",
    "\n",
    "(x_train, t_train), (x_test, t_test) = load_mnist()\n",
    "\n",
    "#훈련 데이터를 셔플\n",
    "x_train, t_train = shuffle_dataset(x_train, t_train)\n",
    "\n",
    "#20%를 검증 데이터로 분할\n",
    "validation_rate = 0.2\n",
    "validation_num = int(x_train.shape[0] * validation_rate)\n",
    "\n",
    "x_val = x_train[:validation_num]\n",
    "t_val = t_train[:validation_num]\n",
    "x_train = x_train[validation_num:]\n",
    "t_train = t_train[validation_num:]"
   ]
  },
  {
   "cell_type": "markdown",
   "metadata": {},
   "source": [
    "- 훈련 데이터 : 매개변수 학습  \n",
    "\n",
    "- 검증 데이터 : 하이퍼파라미터의 성능을 평가  \n",
    "\n",
    "- 시험 데이터 : 신경망의 범용 성능을 평가  "
   ]
  },
  {
   "cell_type": "markdown",
   "metadata": {},
   "source": [
    "### 6.5.3 하이퍼파라미터 최적화 구현하기"
   ]
  },
  {
   "cell_type": "code",
   "execution_count": 10,
   "metadata": {},
   "outputs": [],
   "source": [
    "from common.trainer import Trainer\n",
    "\n",
    "def __train(lr, weight_decay, epocs=50):\n",
    "    network = MultiLayerNet(input_size=784,\n",
    "                            hidden_size_list=[100, 100, 100, 100, 100, 100],\n",
    "                            output_size=10, weight_decay_lambda=weight_decay)\n",
    "    trainer = Trainer(network, x_train, t_train, x_val, t_val,\n",
    "                      epochs=epocs, mini_batch_size=100,\n",
    "                      optimizer='sgd',\n",
    "                      optimizer_param={'lr': lr}, verbose=False)\n",
    "    trainer.train()\n",
    "\n",
    "    return trainer.test_acc_list, trainer.train_acc_list\n",
    "\n",
    "optimization_trial = 100\n",
    "results_val = {}\n",
    "results_train = {}"
   ]
  },
  {
   "cell_type": "code",
   "execution_count": 11,
   "metadata": {},
   "outputs": [
    {
     "name": "stdout",
     "output_type": "stream",
     "text": [
      "val acc:0.13691666666666666 | lr:3.106834808445675e-06, weight decay:1.2119464521723436e-06\n",
      "val acc:0.098 | lr:1.0810943733907701e-06, weight decay:8.625194959670273e-05\n",
      "val acc:0.89 | lr:0.0002163766488260702, weight decay:8.414930306868659e-05\n",
      "val acc:0.1225 | lr:6.191158616278504e-06, weight decay:5.842770109385774e-06\n",
      "val acc:0.87475 | lr:0.0001510304114285695, weight decay:1.5810438521414734e-07\n",
      "val acc:0.9278333333333333 | lr:0.0005030925428954243, weight decay:3.120677406911768e-08\n",
      "val acc:0.09216666666666666 | lr:1.4137855043169636e-06, weight decay:7.547630326579179e-05\n",
      "val acc:0.968 | lr:0.005645893550979283, weight decay:4.187901269145063e-05\n",
      "val acc:0.09925 | lr:1.709685495847927e-06, weight decay:1.1452000818655771e-07\n",
      "val acc:0.96075 | lr:0.0027213190650062272, weight decay:3.776206334278005e-08\n",
      "val acc:0.11641666666666667 | lr:1.0349429945210542e-06, weight decay:2.0402860412163462e-08\n",
      "val acc:0.96175 | lr:0.0019354422304412651, weight decay:6.262348129159304e-06\n",
      "val acc:0.815 | lr:8.784661938655254e-05, weight decay:7.580605531793343e-08\n",
      "val acc:0.9351666666666667 | lr:0.0005911243315213153, weight decay:1.8324081176684715e-08\n",
      "val acc:0.9020833333333333 | lr:0.000276087286754818, weight decay:1.2091954111322439e-08\n",
      "val acc:0.15425 | lr:1.0717469729517177e-05, weight decay:4.953833569751226e-05\n",
      "val acc:0.9635 | lr:0.0033466570410879875, weight decay:4.538298081326221e-08\n",
      "val acc:0.5601666666666667 | lr:3.9760793840852786e-05, weight decay:8.678748913987206e-07\n",
      "val acc:0.604 | lr:3.729267439796493e-05, weight decay:3.4194746821437254e-07\n",
      "val acc:0.9498333333333333 | lr:0.001161601984157251, weight decay:1.5880071821752775e-06\n",
      "val acc:0.2841666666666667 | lr:1.6352172485563916e-05, weight decay:1.4354384181230081e-08\n",
      "val acc:0.18416666666666667 | lr:3.5260810318569224e-06, weight decay:1.1342761259067942e-05\n",
      "val acc:0.6914166666666667 | lr:4.860756753393264e-05, weight decay:3.047799109506441e-06\n",
      "val acc:0.20958333333333334 | lr:1.476245228977855e-05, weight decay:5.980050214683145e-08\n",
      "val acc:0.29433333333333334 | lr:1.7335091702686398e-05, weight decay:6.49496566801148e-08\n",
      "val acc:0.73225 | lr:4.7068890669930445e-05, weight decay:7.37185269846129e-06\n",
      "val acc:0.11083333333333334 | lr:1.552459636094717e-06, weight decay:1.758576894193889e-05\n",
      "val acc:0.80825 | lr:9.36221448624971e-05, weight decay:8.295804502324295e-08\n",
      "val acc:0.5223333333333333 | lr:4.3722849083729805e-05, weight decay:1.6641232680209895e-08\n",
      "val acc:0.89475 | lr:0.00021455285353619915, weight decay:4.15518192837535e-08\n",
      "val acc:0.09575 | lr:2.999560136545301e-06, weight decay:7.392625289002744e-05\n",
      "val acc:0.852 | lr:0.00013610513490998642, weight decay:2.1138447567450423e-07\n",
      "val acc:0.18008333333333335 | lr:9.628584894941687e-06, weight decay:6.2504204786300835e-06\n",
      "val acc:0.9173333333333333 | lr:0.00035762744093826665, weight decay:3.8812138985131096e-07\n",
      "val acc:0.16266666666666665 | lr:8.508289232608584e-06, weight decay:1.2432896315224046e-06\n",
      "val acc:0.9653333333333334 | lr:0.0059708428940421065, weight decay:4.1304948916864125e-07\n",
      "val acc:0.8963333333333333 | lr:0.0002339090929999735, weight decay:4.250515995958093e-06\n",
      "val acc:0.9645 | lr:0.003817887651834717, weight decay:1.597148973392731e-08\n",
      "val acc:0.20166666666666666 | lr:6.498456856733239e-06, weight decay:4.094059486140046e-06\n",
      "val acc:0.15133333333333332 | lr:6.78489234186514e-06, weight decay:7.591015983645295e-07\n",
      "val acc:0.9585833333333333 | lr:0.0017557676932367667, weight decay:3.591588279639057e-05\n",
      "val acc:0.915 | lr:0.00034755230119008784, weight decay:5.003711331683026e-06\n",
      "val acc:0.9479166666666666 | lr:0.0012234173066220265, weight decay:2.2609443769411592e-08\n",
      "val acc:0.9553333333333334 | lr:0.001404193153287506, weight decay:2.0095792337759298e-08\n",
      "val acc:0.9348333333333333 | lr:0.0006413982059018291, weight decay:1.552708023739183e-05\n",
      "val acc:0.8728333333333333 | lr:0.00014239479471379402, weight decay:3.502508297211322e-08\n",
      "val acc:0.10133333333333333 | lr:3.930970827138583e-06, weight decay:8.868977530637793e-07\n",
      "val acc:0.9473333333333334 | lr:0.0010619981084345643, weight decay:3.3712568146152354e-07\n",
      "val acc:0.11391666666666667 | lr:1.9405250601602e-06, weight decay:9.688055237069634e-06\n",
      "val acc:0.5823333333333334 | lr:3.265662173435065e-05, weight decay:1.3092276147746156e-05\n",
      "val acc:0.5891666666666666 | lr:4.7226723609552836e-05, weight decay:2.9865143006664575e-05\n",
      "val acc:0.319 | lr:2.258313819143566e-05, weight decay:1.04310460170748e-05\n",
      "val acc:0.09991666666666667 | lr:1.9534846872606723e-06, weight decay:9.409809761797701e-07\n",
      "val acc:0.36125 | lr:2.3217461605396798e-05, weight decay:2.4804237856133693e-05\n",
      "val acc:0.12766666666666668 | lr:6.456744333266891e-06, weight decay:4.544175333597139e-08\n",
      "val acc:0.7929166666666667 | lr:5.919397394427434e-05, weight decay:5.575289356342084e-06\n",
      "val acc:0.8555 | lr:0.00011399326820202265, weight decay:1.0552556908073656e-06\n",
      "val acc:0.9435 | lr:0.0010082606564966986, weight decay:8.914081076316493e-07\n",
      "val acc:0.07791666666666666 | lr:1.25667907768267e-06, weight decay:7.965207212763713e-06\n",
      "val acc:0.8615833333333334 | lr:0.00012126975018915539, weight decay:2.0427981318926793e-07\n",
      "val acc:0.58 | lr:3.6896322558410964e-05, weight decay:1.9731705773095972e-06\n",
      "val acc:0.9533333333333334 | lr:0.0014105109050228935, weight decay:1.692547304215169e-08\n",
      "val acc:0.90175 | lr:0.0002903018072476878, weight decay:3.294472698549155e-08\n",
      "val acc:0.75075 | lr:7.591534681030054e-05, weight decay:3.907704091231162e-06\n",
      "val acc:0.5719166666666666 | lr:2.996302330508433e-05, weight decay:2.3734577053126982e-05\n",
      "val acc:0.11558333333333333 | lr:2.5837006205117236e-06, weight decay:4.133641848928855e-08\n",
      "val acc:0.7383333333333333 | lr:6.92622884232567e-05, weight decay:2.0763597598786568e-07\n",
      "val acc:0.847 | lr:0.00012118594024014538, weight decay:3.6178314501354535e-08\n",
      "val acc:0.8540833333333333 | lr:0.00011905103830751299, weight decay:1.093470737887107e-08\n",
      "val acc:0.96975 | lr:0.009670679277174084, weight decay:8.141969904396711e-05\n",
      "val acc:0.9670833333333333 | lr:0.008201293185096941, weight decay:5.310830620412764e-05\n",
      "val acc:0.17275 | lr:1.0525850773906501e-05, weight decay:5.34304015364102e-06\n",
      "val acc:0.19283333333333333 | lr:8.857143623740264e-06, weight decay:4.668469814838381e-06\n",
      "val acc:0.9198333333333333 | lr:0.00040392873049922677, weight decay:5.582096806647113e-06\n",
      "val acc:0.42383333333333334 | lr:1.7927394184683263e-05, weight decay:2.363933013619343e-05\n",
      "val acc:0.6429166666666667 | lr:5.8515131206312916e-05, weight decay:9.99965215328893e-07\n",
      "val acc:0.9574166666666667 | lr:0.002091115518830517, weight decay:8.043120280720011e-05\n",
      "val acc:0.5770833333333333 | lr:3.74815799451958e-05, weight decay:6.950450289835992e-08\n",
      "val acc:0.059166666666666666 | lr:1.022985284128942e-06, weight decay:1.656822964507182e-06\n",
      "val acc:0.1495 | lr:2.4720801295963144e-06, weight decay:8.881693844795566e-07\n",
      "val acc:0.9585 | lr:0.0018411932755400093, weight decay:4.994072781499758e-07\n",
      "val acc:0.301 | lr:1.8148145449043997e-05, weight decay:2.376340472503719e-05\n",
      "val acc:0.8945 | lr:0.00020513112313300656, weight decay:3.02847373076654e-08\n",
      "val acc:0.9294166666666667 | lr:0.000589014144613755, weight decay:1.7444946870671586e-06\n",
      "val acc:0.7948333333333333 | lr:8.517381154112367e-05, weight decay:6.587248463446939e-05\n",
      "val acc:0.11116666666666666 | lr:1.3533647271061894e-06, weight decay:1.4938400568746144e-07\n",
      "val acc:0.115 | lr:2.1668330715012033e-06, weight decay:4.944942920052209e-08\n",
      "val acc:0.9555833333333333 | lr:0.0022449287896964794, weight decay:1.6327329951361983e-05\n",
      "val acc:0.71775 | lr:6.185077228450524e-05, weight decay:8.76850708557988e-06\n",
      "val acc:0.1835 | lr:3.1552800731596383e-06, weight decay:1.2293293747493734e-05\n",
      "val acc:0.5538333333333333 | lr:3.551659445554424e-05, weight decay:2.2551693129298386e-06\n",
      "val acc:0.3114166666666667 | lr:1.4557703891253931e-05, weight decay:3.232144575192849e-08\n",
      "val acc:0.7355833333333334 | lr:6.349721036710432e-05, weight decay:1.2516442404516815e-08\n",
      "val acc:0.0915 | lr:1.003656256941517e-06, weight decay:7.157495117735776e-07\n",
      "val acc:0.15 | lr:3.6557327644818235e-06, weight decay:7.105800145716415e-07\n",
      "val acc:0.4880833333333333 | lr:3.700124201175841e-05, weight decay:2.5015335822086338e-08\n"
     ]
    },
    {
     "name": "stdout",
     "output_type": "stream",
     "text": [
      "val acc:0.12791666666666668 | lr:4.0072191349627195e-06, weight decay:1.4971649416654452e-08\n",
      "val acc:0.16458333333333333 | lr:1.936001403408182e-06, weight decay:1.929286877860048e-06\n",
      "val acc:0.76525 | lr:6.801663630197423e-05, weight decay:4.643199304904811e-07\n",
      "val acc:0.16633333333333333 | lr:3.284569057385679e-06, weight decay:4.5277043223595524e-07\n"
     ]
    }
   ],
   "source": [
    "for _ in range(optimization_trial):\n",
    "    weight_decay = 10 ** np.random.uniform(-8,-4)\n",
    "    lr = 10 ** np.random.uniform(-6,-2)\n",
    "    \n",
    "    val_acc_list, train_acc_list = __train(lr, weight_decay)\n",
    "    print(\"val acc:\" + str(val_acc_list[-1]) + \" | lr:\" + str(lr) + \", weight decay:\" + str(weight_decay))\n",
    "    key = \"lr:\" + str(lr) + \", weight decay:\" + str(weight_decay)\n",
    "    results_val[key] = val_acc_list\n",
    "    results_train[key] = train_acc_list"
   ]
  },
  {
   "cell_type": "code",
   "execution_count": 12,
   "metadata": {},
   "outputs": [
    {
     "name": "stdout",
     "output_type": "stream",
     "text": [
      "=========== Hyper-Parameter Optimization Result ===========\n",
      "Best-1(val acc:0.96975) | lr:0.009670679277174084, weight decay:8.141969904396711e-05\n",
      "Best-2(val acc:0.968) | lr:0.005645893550979283, weight decay:4.187901269145063e-05\n",
      "Best-3(val acc:0.9670833333333333) | lr:0.008201293185096941, weight decay:5.310830620412764e-05\n",
      "Best-4(val acc:0.9653333333333334) | lr:0.0059708428940421065, weight decay:4.1304948916864125e-07\n",
      "Best-5(val acc:0.9645) | lr:0.003817887651834717, weight decay:1.597148973392731e-08\n",
      "Best-6(val acc:0.9635) | lr:0.0033466570410879875, weight decay:4.538298081326221e-08\n",
      "Best-7(val acc:0.96175) | lr:0.0019354422304412651, weight decay:6.262348129159304e-06\n",
      "Best-8(val acc:0.96075) | lr:0.0027213190650062272, weight decay:3.776206334278005e-08\n",
      "Best-9(val acc:0.9585833333333333) | lr:0.0017557676932367667, weight decay:3.591588279639057e-05\n",
      "Best-10(val acc:0.9585) | lr:0.0018411932755400093, weight decay:4.994072781499758e-07\n",
      "Best-11(val acc:0.9574166666666667) | lr:0.002091115518830517, weight decay:8.043120280720011e-05\n",
      "Best-12(val acc:0.9555833333333333) | lr:0.0022449287896964794, weight decay:1.6327329951361983e-05\n",
      "Best-13(val acc:0.9553333333333334) | lr:0.001404193153287506, weight decay:2.0095792337759298e-08\n",
      "Best-14(val acc:0.9533333333333334) | lr:0.0014105109050228935, weight decay:1.692547304215169e-08\n",
      "Best-15(val acc:0.9498333333333333) | lr:0.001161601984157251, weight decay:1.5880071821752775e-06\n",
      "Best-16(val acc:0.9479166666666666) | lr:0.0012234173066220265, weight decay:2.2609443769411592e-08\n",
      "Best-17(val acc:0.9473333333333334) | lr:0.0010619981084345643, weight decay:3.3712568146152354e-07\n",
      "Best-18(val acc:0.9435) | lr:0.0010082606564966986, weight decay:8.914081076316493e-07\n",
      "Best-19(val acc:0.9351666666666667) | lr:0.0005911243315213153, weight decay:1.8324081176684715e-08\n",
      "Best-20(val acc:0.9348333333333333) | lr:0.0006413982059018291, weight decay:1.552708023739183e-05\n"
     ]
    },
    {
     "data": {
      "image/png": "[encoded data removed]",
      "text/plain": [
       "<Figure size 432x288 with 20 Axes>"
      ]
     },
     "metadata": {
      "needs_background": "light"
     },
     "output_type": "display_data"
    }
   ],
   "source": [
    "print(\"=========== Hyper-Parameter Optimization Result ===========\")\n",
    "graph_draw_num = 20\n",
    "col_num = 5\n",
    "row_num = int(np.ceil(graph_draw_num / col_num))\n",
    "i = 0\n",
    "\n",
    "for key, val_acc_list in sorted(results_val.items(), key=lambda x: x[1][-1], reverse=True):\n",
    "    print(\"Best-\" + str(i+1) + \"(val acc:\" + str(val_acc_list[-1]) + \") | \" + key)\n",
    "\n",
    "    plt.subplot(row_num, col_num, i+1)\n",
    "    plt.title(\"Best-\" + str(i+1))\n",
    "    plt.ylim(0.0, 1.0)\n",
    "    if i % 5:\n",
    "        plt.yticks([])\n",
    "    plt.xticks([])\n",
    "    x = np.arange(len(val_acc_list))\n",
    "    plt.plot(x, val_acc_list)\n",
    "    plt.plot(x, results_train[key], \"--\")\n",
    "    i += 1\n",
    "\n",
    "    if i >= graph_draw_num:\n",
    "        break\n",
    "\n",
    "plt.show()"
   ]
  }
 ],
 "metadata": {
  "kernelspec": {
   "display_name": "Python 3",
   "language": "python",
   "name": "python3"
  },
  "language_info": {
   "codemirror_mode": {
    "name": "ipython",
    "version": 3
   },
   "file_extension": ".py",
   "mimetype": "text/x-python",
   "name": "python",
   "nbconvert_exporter": "python",
   "pygments_lexer": "ipython3",
   "version": "3.8.1"
  }
 },
 "nbformat": 4,
 "nbformat_minor": 4
}
